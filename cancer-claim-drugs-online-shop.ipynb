{
 "cells": [
  {
   "cell_type": "markdown",
   "metadata": {},
   "source": [
    "## Import Library"
   ]
  },
  {
   "cell_type": "code",
   "execution_count": 103,
   "metadata": {},
   "outputs": [],
   "source": [
    "import imp\n",
    "from bs4 import BeautifulSoup\n",
    "from selenium import webdriver\n",
    "from selenium.webdriver.chrome.options import Options       # to customize chrome display\n",
    "from selenium.webdriver.support.ui import WebDriverWait\n",
    "from selenium.common.exceptions import TimeoutException\n",
    "from selenium.webdriver.common.by import By\n",
    "from selenium.webdriver.support import expected_conditions as EC \n",
    "from time import sleep\n",
    "from collections import Counter\n",
    "\n",
    "import threading\n",
    "import time\n",
    "import pandas as pd\n",
    "import numpy as np\n",
    "from numpy import nan\n",
    "import re\n",
    "import concurrent.futures\n",
    "\n",
    "%matplotlib inline\n",
    "import matplotlib as mpl\n",
    "import matplotlib.pyplot as plt\n",
    "import seaborn as sns\n",
    "import math"
   ]
  },
  {
   "cell_type": "markdown",
   "metadata": {},
   "source": [
    "## Link search on e-commerce\n"
   ]
  },
  {
   "cell_type": "code",
   "execution_count": 104,
   "metadata": {},
   "outputs": [],
   "source": [
    "# Link product search result\n",
    "from turtle import delay\n",
    "url = 'https://shopee.co.id/search?keyword=obat%20kanker'\n",
    "path = '/Applications/chromedriver'\n",
    "\n",
    "# create object for chrome options\n",
    "chrome_options = Options()\n",
    "\n",
    "# Customize chrome display\n",
    "chrome_options.add_argument('start-maximized')\n",
    "chrome_options.add_argument('--no-sandbox')\n",
    "chrome_options.add_argument('--headless')\n",
    "chrome_options.add_argument('disable-notifications')\n",
    "\n",
    "# To disable the message, \"Chrome is being controlled by automated test software\"\n",
    "chrome_options.add_argument('--disable-infobars')   \n",
    "\n",
    "# create webdriver object\n",
    "driver = webdriver.Chrome(executable_path=path, options=chrome_options)\n",
    "driver.get(url)\n",
    "\n"
   ]
  },
  {
   "cell_type": "code",
   "execution_count": 110,
   "metadata": {},
   "outputs": [
    {
     "name": "stdout",
     "output_type": "stream",
     "text": [
      "Page is ready\n",
      "['Acep Herbal - Zedoril 7 Khusus Mengobati Tumor Benjolan Kanker Sipilis Raja Singa - BPOM & Halal', '255.000', '10RB+ Terjual']\n",
      "['Obat Tumor Kista Bartholin Baker Ganglion Kanker Nasofaring Melanoma Darah Herbal De Nature', '315.000', '1,5RB Terjual']\n",
      "['{Agen Resmi WISNUMART} Madu Bajakah Borneo ORI 100% Bergaransi - Atasi Benjolan , Kanker ,Tumor ,dan Segala Kronis', '165.000', '10RB+ Terjual']\n",
      "['Obat Herbal Kanker| Kista| Tumor| Miom| Polip Hidung| Leukimia| De Nature Original| (Bisa COD)', '315.000', '10RB+ Terjual']\n",
      "['IDR Madu Hitam  Obat Kanker Payudara  350 gram', '250.000', None]\n",
      "['Flagelord Annamord Typogell Zirzax De Nature Capsule Obat Menghambat Dan Menyembuhkan Sel Kanker Tumor Ganas Herbal Ampuh Original', '175.000', '107 Terjual']\n",
      "['Obat habutop,Habatop herbal isi 200 kapsul,untuk Stroke,Kanker,Migrain dan Hipertensi', '230.000', '51 Terjual']\n",
      "['Cek Testimoni - Obat Kanker Serviks atau Rahim, Payudara, Prostat & Kelenjar Getah Bening', '60.000', '137 Terjual']\n",
      "['Obat Spesialis Kanker Kangker Ovarium Serviks Payudara Benjolan di tubuh Stadium 1-4 Herbal Aman Naturindo', '70.000', '1,5RB Terjual']\n",
      "['Obat Herbal Carcinofit Obat tumor Payudara Obat Benjolan Payudara Obat kanker Payudara Obat Kanker Herbal Obat Kanker Serviks Obat Tumor Obat Tiroid Prostat', '70.000', '644 Terjual']\n",
      "['Obat Kista Herbal Myom Bartholin Kista Coklat Benjolan di Rahim Vagina/Miss V & Kanker Serviks BPOM', '70.000', '1,1RB Terjual']\n",
      "['NATURINDO OBAT KANKER TUMOR HERBAL BPOM HALAL PAYUDARA HATI OTAK DARAH LEUKIMIA BENJOLAN GANAS JINAK', '250.000', '147 Terjual']\n",
      "['GRAVIDA BHARATA OBAT KANKER PAYUDARA AMPUH  ATASI KANKER GANAS HERBAL TERDAFTAR BPOM', '80.000', '1,6RB Terjual']\n",
      "['Obat Prostat Ampuh Herbal Nyeri Saat Kencing Kanker Prostat Bengkak Infeksi Saluran Kemih AMPUH Tanpa Operasi Herbal Alami', '70.000', '652 Terjual']\n",
      "['Zedoril 7 Walatra Obat Herbal Kanker & Tumor - Obat Benjolan Kelamin - Obat Diabetes - Kencing manis', '170.000', '678 Terjual']\n",
      "['JOVENS Ekstrak Jamur | Obat Kanker, Kista, Miom, Serviks, Prostat || 30 Kaplet', '249.900', '71 Terjual']\n",
      "['Ziirzax Typhogell Obat Kanker Rahim Kista Kanker Payudara Miom Serviks Ovarium Rahim Paru Paru Usus Besar Pangkreas Prostat', '315.000', '856 Terjual']\n",
      "['Obat Herbal Kanker Tumor Herbal Kanker Payudara Obat Tumor Otak KankerTB Herbal Carsinofit Naturindo', '70.000', '1RB Terjual']\n",
      "['', '', None]\n",
      "['', '', None]\n",
      "['GARANSI ASLI Obat Kanker Serviks/Kista/Payudara/Darah/Tumor Herbal DeNature', '315.000', '140 Terjual']\n",
      "['ORI Obat Semua Kanker Tumor deNature Asli atau ORIginal Kualitas International', '150.000', '2,6RB Terjual']\n",
      "['Hiu keladi tikus ,obat kanker dan tumor , mencegah dan mengobati kanker', '53.900', '166 Terjual']\n",
      "['', '', None]\n",
      "['', '', None]\n",
      "['Ling Shen Yao - Kapsul (Obat Kanker / Kista / Miom / dll)', '340.000', '51 Terjual']\n",
      "['Typogell Zirzax DeNature Kanker Payudara Kanker Rahim Kanker Servik Kista Myom Tumor Kanker  Pankreas Kanker Hati', '315.000', '3,5RB Terjual']\n",
      "['Gravida Bharata Original - Obat Kanker & Tumor Ganas - Garansi 100% Asli', '275.000', '13 Terjual']\n",
      "['', '', None]\n",
      "['', '', None]\n",
      "['Zedoariplus Obat Herbal Kanker dan Tumor', '200.000', '168 Terjual']\n",
      "['Tenaga kuda Pria Ginseng Merah Kalimantan Suplemen Makanan Kesehatan Obat Kanker Jantung', '700.000', '41 Terjual']\n",
      "['Obat Kanker Benjolan Payudara Obat Kanker Serviks Prostat Tumor Payudara Serviks Obat Benjolan Herbal BPOM Obat Segala Kanker Ganas Jamu Carcinofit Naturindo', '10.000', '28 Terjual']\n",
      "['', '', None]\n",
      "['', '', None]\n",
      "['OBAT KANKER Ampuh GRAVIDA / GALRIDA BHARATA I OBAT TUMOR Herbal Asli Original', '275.000', '129 Terjual']\n",
      "['Paket Herbal Obat Jantung - Kanker Jantung - Jantung Koroner - Jantung Bocor - Endokarditis', '295.000', '2,6RB Terjual']\n",
      "['Shark Cartilage Supplement Adalah Obat Kanker Dan Tumor', '150.000', '69 Terjual']\n",
      "['', '', None]\n",
      "['', '', None]\n",
      "['Obat Kanker Benjolan Kelenjar Getah Bening Prostat Serviks ZIIRZAX & Typhogell Original De Nature', '1.150.000', '690 Terjual']\n",
      "['BIO7 OBAT DIABETES DARAH TINGGI KANKER HERBAL ASLI BPOM BIOSEVEN', '200.000', '13 Terjual']\n",
      "['ORI Obat Semua jenis Kanker dan Tumor deNature Terlaris dan Terpercaya', '315.000', '3,2RB Terjual']\n",
      "['', '', None]\n",
      "['', '', None]\n",
      "['CURCUMED OBAT TUMOR KANKER KISTA', '95.000', '168 Terjual']\n",
      "['Obat Herbal Kanker Serviks, Kangker, Kista, Kanker Payudara, Tumor, Kanker Rahim De Nature Indonesia', '1.995.000', '3,1RB Terjual']\n",
      "['BISA COD| JAMU KAPSUL JIMAN PITUTUR LUHUR DAN KAPSUL HABAT ALI ASLI 100% Obat herbal Jantung,obat Kanker,obat paru-paru,obat diabetes,obat vertigo,obat reumatik,obat asma,obat kista', '178.000', '1,1RB Terjual']\n",
      "['', '', None]\n",
      "['', '', None]\n",
      "['Ziirzax Typhogell De Nature Obat Kanker Serviks Kista Payudara, Tumor, Penyakit  Kanker', '315.000', '17 Terjual']\n",
      "['Obat Kanker  SERVIK TUMOR BENJOLAN PADA TUBUH KANKER PAYUDARA Herbal', '80.000', '314 Terjual']\n",
      "['Obat Kista Ovarium Herbal Myom Miom Pelancar Haid Kanker Serviks Kista Bartholin Ganglion Nyeri Haid Herbal Ampuh BPOM Cysto Up Naturindo Madiun', '70.000', '269 Terjual']\n",
      "['', '', None]\n",
      "['', '', None]\n",
      "['Obat Herbal Kanker Payudara Obat Kanker serviks Paru Prostat Tumor Paling Ampuh Carcinofit Naturindo', '70.000', '2,7RB Terjual']\n",
      "['Galrida Bharata - Obat Kanker Paling Ampuh - Obat Tumor Paling Ampuh - Kemasan 500g - Isi 50 Kapsul - 100% Produk Original - Garansi 100% Original', '275.000', '46 Terjual']\n",
      "['Madu Bajakah / Obat Benjolan / Obat Kanker / Madu Bajakah Borneo', '165.000', '116 Terjual']\n",
      "['', '', None]\n",
      "['', '', None]\n"
     ]
    }
   ],
   "source": [
    "# Looping\n",
    "rows = []\n",
    "\n",
    "main_link = 'https://shopee.co.id/search?keyword=obat%20kanker&page={}'.format(page)\n",
    "driver.get(main_link)\n",
    "WebDriverWait(driver, 20).until(EC.presence_of_all_elements_located((By.CLASS_NAME, \"shopee-search-item-result__items\")))\n",
    "driver.execute_script(\"\"\"\n",
    "var scroll = document.body.scrollHeight / 10;\n",
    "var i = 0;\n",
    "function scrollit(i) {\n",
    "    window.scrollBy({top: scroll, left: 0, behavior: 'smooth'});\n",
    "    i++;\n",
    "    if (i < 10) {\n",
    "    setTimeout(scrollit, 500, i);\n",
    "    }\n",
    "}\n",
    "scrollit(i);\n",
    "\"\"\")\n",
    "sleep(5)\n",
    "html = driver.execute_script(\"return document.getElementsByTagName('html')[0].innerHTML\")\n",
    "soup = BeautifulSoup(html, \"html.parser\")\n",
    "\n",
    "# Scrape product name\n",
    "for item in soup.find_all('div', {'class': 'col-xs-2-4 shopee-search-item-result__item'}):\n",
    "    product_name = item.find('div', {\"ie3A+n bM+7UW Cve6sh\"})\n",
    "    if product_name is not None:\n",
    "        product_name = product_name.text.strip()\n",
    "    else:\n",
    "        product_name = ''\n",
    "\n",
    "# Scrape product price\n",
    "    product_price = item.find('div', {'class':\"vioxXd rVLWG6\"})\n",
    "    if product_price is not None:\n",
    "        product_price = product_price.find('span', {'class': 'ZEgDH9'}).text.strip()\n",
    "    else:\n",
    "        product_price = ''\n",
    "\n",
    "# Scrape total product sold\n",
    "    product_sold = item.find('div', {'class':\"r6HknA uEPGHT\"})\n",
    "    if product_sold is not None:\n",
    "        product_sold = product_sold.text.strip()\n",
    "    else:\n",
    "        price = ''\n",
    "    print([product_name, product_price, product_sold])\n",
    "    rows.append([product_name, product_price, product_sold])\n",
    "\n"
   ]
  },
  {
   "cell_type": "code",
   "execution_count": 114,
   "metadata": {},
   "outputs": [
    {
     "data": {
      "text/plain": [
       "['Acep Herbal - Zedoril 7 Khusus Mengobati Tumor Benjolan Kanker Sipilis Raja Singa - BPOM & Halal',\n",
       " '255.000',\n",
       " '10RB+ Terjual']"
      ]
     },
     "execution_count": 114,
     "metadata": {},
     "output_type": "execute_result"
    }
   ],
   "source": [
    "rows[0]"
   ]
  },
  {
   "cell_type": "code",
   "execution_count": 89,
   "metadata": {},
   "outputs": [],
   "source": [
    "# Looping 1 pages\n",
    "product_name, product_price, product_sold, product_city = [], [], [], []\n",
    "for page in range(0,2):\n",
    "    main_link = 'https://shopee.co.id/search?keyword=obat%20kanker&page={}'.format(page)\n",
    "    driver.get(main_link)\n",
    "    WebDriverWait(driver, 20).until(EC.presence_of_all_elements_located((By.CLASS_NAME, \"shopee-search-item-result\")))\n",
    "    driver.execute_script(\"\"\"\n",
    "        var scroll = document.body.scrollHeight / 10;\n",
    "        var i = 0;\n",
    "        function scrollit(i) {\n",
    "           window.scrollBy({top: scroll, left: 0, behavior: 'smooth'});\n",
    "           i++;\n",
    "           if (i < 10) {\n",
    "            setTimeout(scrollit, 500, i);\n",
    "            }\n",
    "        }\n",
    "        scrollit(i);\n",
    "        \"\"\")\n",
    "    sleep(5)\n",
    "    html = driver.execute_script(\"return document.getElementsByTagName('html')[0].innerHTML\")\n",
    "    soup = BeautifulSoup(html, \"html.parser\")\n",
    "\n",
    "    # Scrape product name\n",
    "    for i in soup.find_all('div', class_='ie3A+n bM+7UW Cve6sh'):\n",
    "        product_name.append(i.text)\n",
    "\n",
    "    # Scrape product price\n",
    "    for i in soup.find_all('div', class_='hpDKMN'):\n",
    "        product_price.append(i.text)\n",
    "\n",
    "    # Scrape total product sold\n",
    "    for i in soup.find_all('div', class_='r6HknA uEPGHT'):\n",
    "        product_sold.append(i.text)\n",
    "    \n",
    "    #Scrape the city of the product sold\n",
    "    for i in soup.find_all('div', class_='zGGwiv'):\n",
    "        product_city.append(i.text)\n"
   ]
  },
  {
   "cell_type": "code",
   "execution_count": 90,
   "metadata": {},
   "outputs": [
    {
     "data": {
      "text/plain": [
       "66"
      ]
     },
     "execution_count": 90,
     "metadata": {},
     "output_type": "execute_result"
    }
   ],
   "source": [
    "len(product_name)"
   ]
  },
  {
   "cell_type": "code",
   "execution_count": 50,
   "metadata": {},
   "outputs": [],
   "source": [
    "# Save data\n",
    "listCols = ['product_name', 'product_price', 'product_sold']\n",
    "dict_data = dict(zip(\n",
    "    listCols,(\n",
    "        product_name,\n",
    "        product_price,\n",
    "        product_sold)\n",
    "))\n"
   ]
  },
  {
   "cell_type": "code",
   "execution_count": 51,
   "metadata": {},
   "outputs": [
    {
     "data": {
      "text/html": [
       "<div>\n",
       "<style scoped>\n",
       "    .dataframe tbody tr th:only-of-type {\n",
       "        vertical-align: middle;\n",
       "    }\n",
       "\n",
       "    .dataframe tbody tr th {\n",
       "        vertical-align: top;\n",
       "    }\n",
       "\n",
       "    .dataframe thead th {\n",
       "        text-align: right;\n",
       "    }\n",
       "</style>\n",
       "<table border=\"1\" class=\"dataframe\">\n",
       "  <thead>\n",
       "    <tr style=\"text-align: right;\">\n",
       "      <th></th>\n",
       "      <th>product_name</th>\n",
       "      <th>product_price</th>\n",
       "      <th>product_sold</th>\n",
       "    </tr>\n",
       "  </thead>\n",
       "  <tbody>\n",
       "    <tr>\n",
       "      <th>0</th>\n",
       "      <td>Obat Herbal Kanker Payudara, Serviks, Hati, Us...</td>\n",
       "      <td>Rp525.000</td>\n",
       "      <td>3,8RB Terjual</td>\n",
       "    </tr>\n",
       "    <tr>\n",
       "      <th>1</th>\n",
       "      <td>OBAT KANKER TUMOR MIOM KISTA KELENJAR  POLIP L...</td>\n",
       "      <td>Rp200.000Rp184.000</td>\n",
       "      <td>1,8RB Terjual</td>\n",
       "    </tr>\n",
       "    <tr>\n",
       "      <th>2</th>\n",
       "      <td>OBAT KANKER TUMOR KELENJAR GETAH BENING LIMFOM...</td>\n",
       "      <td>Rp315.000</td>\n",
       "      <td>8,1RB Terjual</td>\n",
       "    </tr>\n",
       "    <tr>\n",
       "      <th>3</th>\n",
       "      <td>Walatra Zedoril 7 Asli Obat Herbal Kanker Tumo...</td>\n",
       "      <td>Rp255.000</td>\n",
       "      <td>10RB+ Terjual</td>\n",
       "    </tr>\n",
       "    <tr>\n",
       "      <th>4</th>\n",
       "      <td>GRAVIDA BHARATA OBAT KANKER PAYUDARA AMPUH |KA...</td>\n",
       "      <td>Rp275.000</td>\n",
       "      <td>10RB+ Terjual</td>\n",
       "    </tr>\n",
       "  </tbody>\n",
       "</table>\n",
       "</div>"
      ],
      "text/plain": [
       "                                        product_name       product_price  \\\n",
       "0  Obat Herbal Kanker Payudara, Serviks, Hati, Us...           Rp525.000   \n",
       "1  OBAT KANKER TUMOR MIOM KISTA KELENJAR  POLIP L...  Rp200.000Rp184.000   \n",
       "2  OBAT KANKER TUMOR KELENJAR GETAH BENING LIMFOM...           Rp315.000   \n",
       "3  Walatra Zedoril 7 Asli Obat Herbal Kanker Tumo...           Rp255.000   \n",
       "4  GRAVIDA BHARATA OBAT KANKER PAYUDARA AMPUH |KA...           Rp275.000   \n",
       "\n",
       "    product_sold  \n",
       "0  3,8RB Terjual  \n",
       "1  1,8RB Terjual  \n",
       "2  8,1RB Terjual  \n",
       "3  10RB+ Terjual  \n",
       "4  10RB+ Terjual  "
      ]
     },
     "execution_count": 51,
     "metadata": {},
     "output_type": "execute_result"
    }
   ],
   "source": [
    "# Save in DataFrame\n",
    "df = pd.DataFrame(data=dict_data)\n",
    "\n",
    "# The first five data\n",
    "df.head()"
   ]
  },
  {
   "cell_type": "code",
   "execution_count": 52,
   "metadata": {},
   "outputs": [
    {
     "data": {
      "text/html": [
       "<div>\n",
       "<style scoped>\n",
       "    .dataframe tbody tr th:only-of-type {\n",
       "        vertical-align: middle;\n",
       "    }\n",
       "\n",
       "    .dataframe tbody tr th {\n",
       "        vertical-align: top;\n",
       "    }\n",
       "\n",
       "    .dataframe thead th {\n",
       "        text-align: right;\n",
       "    }\n",
       "</style>\n",
       "<table border=\"1\" class=\"dataframe\">\n",
       "  <thead>\n",
       "    <tr style=\"text-align: right;\">\n",
       "      <th></th>\n",
       "      <th>product_name</th>\n",
       "      <th>product_price</th>\n",
       "      <th>product_sold</th>\n",
       "    </tr>\n",
       "  </thead>\n",
       "  <tbody>\n",
       "    <tr>\n",
       "      <th>760</th>\n",
       "      <td>Obat Benjolan Di Payudara Leher Obat Kelenjar ...</td>\n",
       "      <td>Rp140.000</td>\n",
       "      <td>151 Terjual</td>\n",
       "    </tr>\n",
       "    <tr>\n",
       "      <th>761</th>\n",
       "      <td>Obat Herbal Kanker Payudara Obat Kanker servik...</td>\n",
       "      <td>Rp70.000</td>\n",
       "      <td>2,7RB Terjual</td>\n",
       "    </tr>\n",
       "    <tr>\n",
       "      <th>762</th>\n",
       "      <td>Obat Kanker Tumor Kista Miom Kelenjar Tiroid G...</td>\n",
       "      <td>Rp200.000Rp184.000</td>\n",
       "      <td>4,7RB Terjual</td>\n",
       "    </tr>\n",
       "    <tr>\n",
       "      <th>763</th>\n",
       "      <td>Obat Kanker Payudara Serviks Tumor jinak ganas...</td>\n",
       "      <td>Rp70.000 - Rp250.000</td>\n",
       "      <td>748 Terjual</td>\n",
       "    </tr>\n",
       "    <tr>\n",
       "      <th>764</th>\n",
       "      <td>HEALTHYBEST Obat Kanker payudara penghancur be...</td>\n",
       "      <td>Rp195.000</td>\n",
       "      <td>290 Terjual</td>\n",
       "    </tr>\n",
       "  </tbody>\n",
       "</table>\n",
       "</div>"
      ],
      "text/plain": [
       "                                          product_name         product_price  \\\n",
       "760  Obat Benjolan Di Payudara Leher Obat Kelenjar ...             Rp140.000   \n",
       "761  Obat Herbal Kanker Payudara Obat Kanker servik...              Rp70.000   \n",
       "762  Obat Kanker Tumor Kista Miom Kelenjar Tiroid G...    Rp200.000Rp184.000   \n",
       "763  Obat Kanker Payudara Serviks Tumor jinak ganas...  Rp70.000 - Rp250.000   \n",
       "764  HEALTHYBEST Obat Kanker payudara penghancur be...             Rp195.000   \n",
       "\n",
       "      product_sold  \n",
       "760    151 Terjual  \n",
       "761  2,7RB Terjual  \n",
       "762  4,7RB Terjual  \n",
       "763    748 Terjual  \n",
       "764    290 Terjual  "
      ]
     },
     "execution_count": 52,
     "metadata": {},
     "output_type": "execute_result"
    }
   ],
   "source": [
    "#The last five data\n",
    "df.tail()"
   ]
  },
  {
   "cell_type": "code",
   "execution_count": null,
   "metadata": {},
   "outputs": [],
   "source": [
    "#Export to CSV\n",
    "df.to_csv('cancer-claim-drugs.csv', index=True)"
   ]
  },
  {
   "cell_type": "code",
   "execution_count": null,
   "metadata": {},
   "outputs": [],
   "source": [
    "# close the automated browser\n",
    "driver.close()"
   ]
  }
 ],
 "metadata": {
  "kernelspec": {
   "display_name": "Python 3.9.12 ('base')",
   "language": "python",
   "name": "python3"
  },
  "language_info": {
   "codemirror_mode": {
    "name": "ipython",
    "version": 3
   },
   "file_extension": ".py",
   "mimetype": "text/x-python",
   "name": "python",
   "nbconvert_exporter": "python",
   "pygments_lexer": "ipython3",
   "version": "3.9.12"
  },
  "orig_nbformat": 4,
  "vscode": {
   "interpreter": {
    "hash": "3d597f4c481aa0f25dceb95d2a0067e73c0966dcbd003d741d821a7208527ecf"
   }
  }
 },
 "nbformat": 4,
 "nbformat_minor": 2
}
